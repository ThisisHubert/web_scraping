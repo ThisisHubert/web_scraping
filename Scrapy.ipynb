{
 "cells": [
  {
   "cell_type": "markdown",
   "source": [
    "Testing Web scraping from TOR Browser\n",
    "\n"
   ],
   "metadata": {
    "collapsed": false,
    "pycharm": {
     "name": "#%% md\n"
    }
   }
  },
  {
   "cell_type": "code",
   "execution_count": 1,
   "outputs": [],
   "source": [
    "import socks\n",
    "import socket\n",
    "from stem.util import term\n",
    "\n",
    "\n",
    "import stem.process\n",
    "\n",
    "SOCKS_PORT=7000\n",
    "\n",
    "socks.setdefaultproxy(proxy_type=socks.PROXY_TYPE_SOCKS5,\n",
    "                      addr = \"127.0.0.1\",\n",
    "                      port = SOCKS_PORT)\n",
    "socket.socket = socks.socksocket\n",
    "\n",
    "# Perform DNS resolution through the socket\n",
    "def getaddrinfo(*args):   return [(socket.AF_INET, socket.SOCK_STREAM, 6, '', (args[0], args[1]))]\n",
    "\n",
    "socket.getaddrinfo = getaddrinfo\n",
    "\n",
    "def print_bootstrap_lines(line):\n",
    "    if \"Bootstrapped \" in line:\n",
    "      print(term.format(line, term.Color.GREEN))\n",
    "\n",
    "tor_process = stem.process.launch_tor_with_config(\n",
    "    tor_cmd = \"C:/Users/my-username\\Desktop/Tor Browser/Browser/TorBrowser/Tor//tor.exe\" ,\n",
    "    config = { 'SocksPort': str(SOCKS_PORT),},\n",
    "    init_msg_handler = print_bootstrap_lines,\n",
    ")"
   ],
   "metadata": {
    "collapsed": false,
    "pycharm": {
     "name": "#%%\n"
    }
   }
  },
  {
   "cell_type": "code",
   "execution_count": null,
   "outputs": [],
   "source": [
    "from selenium import webdriver\n",
    "import os\n",
    "\n",
    "# To use Tor's SOCKS proxy server with chrome, include the socks protocol in the scheme with the --proxy-server option\n",
    "# PROXY = \"socks5://127.0.0.1:9150\" # IP:PORT or HOST:PORT\n",
    "\n",
    "torexe = os.popen(r'C:\\Users\\hubertussetiawan\\Desktop\\Tor Browser\\Browser\\TorBrowser\\Tor\\tor.exe')\n",
    "PROXY = \"socks5://localhost:9050\" # IP:PORT or HOST:PORT\n",
    "options = webdriver.ChromeOptions()\n",
    "options.add_argument('--proxy-server=%s' % PROXY)\n",
    "driver = webdriver.Chrome(chrome_options=options, executable_path=r'C:\\Utility\\BrowserDrivers\\chromedriver.exe')\n",
    "driver.get(\"http://check.torproject.org\")"
   ],
   "metadata": {
    "collapsed": false,
    "pycharm": {
     "name": "#%%\n"
    }
   }
  }
 ],
 "metadata": {
  "kernelspec": {
   "name": "python36564bit365pyenvffd40c5c9cbb4f519a32a408d74ed824",
   "language": "python",
   "display_name": "Python 3.6.5 64-bit ('3.6.5': pyenv)"
  },
  "language_info": {
   "codemirror_mode": {
    "name": "ipython",
    "version": 2
   },
   "file_extension": ".py",
   "mimetype": "text/x-python",
   "name": "python",
   "nbconvert_exporter": "python",
   "pygments_lexer": "ipython2",
   "version": "2.7.6"
  }
 },
 "nbformat": 4,
 "nbformat_minor": 0
}